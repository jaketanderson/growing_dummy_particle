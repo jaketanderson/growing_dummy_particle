{
 "cells": [
  {
   "cell_type": "code",
   "execution_count": 1,
   "id": "63db122f-cfd0-4319-988c-12a0e3c574f6",
   "metadata": {
    "tags": []
   },
   "outputs": [
    {
     "data": {
      "application/vnd.jupyter.widget-view+json": {
       "model_id": "c473fd3744284c53a0009f70fa91f0a3",
       "version_major": 2,
       "version_minor": 0
      },
      "text/plain": []
     },
     "metadata": {},
     "output_type": "display_data"
    }
   ],
   "source": [
    "import nglview as nv\n",
    "import openmm\n",
    "import openmm.app as app\n",
    "import openmm.unit as unit\n",
    "import pytraj as pt\n",
    "from tqdm.notebook import tqdm"
   ]
  },
  {
   "cell_type": "code",
   "execution_count": 2,
   "id": "4133c5b7-d1ab-4ef4-a225-c2f2d7ddeaae",
   "metadata": {
    "tags": []
   },
   "outputs": [],
   "source": [
    "work_folder = \"simulation\""
   ]
  },
  {
   "cell_type": "markdown",
   "id": "4bab1383-8829-4e4b-b7ec-3731c1f61eb0",
   "metadata": {},
   "source": [
    "### Load Files"
   ]
  },
  {
   "cell_type": "code",
   "execution_count": 3,
   "id": "2e89ba50-19b2-47b7-a564-71aa7d82e8e7",
   "metadata": {
    "tags": []
   },
   "outputs": [],
   "source": [
    "pdbfile = app.PDBFile(f\"{work_folder}/system.pdb\")\n",
    "with open(f\"{work_folder}/system.xml\", \"r\") as f:\n",
    "    system = openmm.XmlSerializer.deserialize(f.read())"
   ]
  },
  {
   "cell_type": "markdown",
   "id": "ef594f02-e056-44cc-8e62-4ebd0d49892d",
   "metadata": {},
   "source": [
    "### Configure simulation"
   ]
  },
  {
   "cell_type": "code",
   "execution_count": 4,
   "id": "18794409-1d6a-4d0f-8d5e-404574213721",
   "metadata": {
    "tags": []
   },
   "outputs": [],
   "source": [
    "integrator = openmm.LangevinIntegrator(\n",
    "    298.15 * unit.kelvin, 1.0 / unit.picosecond, 2.0 * unit.femtosecond\n",
    ")"
   ]
  },
  {
   "cell_type": "code",
   "execution_count": 5,
   "id": "98f4ef2f-61d5-4b8c-92a3-551cdb94e1e1",
   "metadata": {
    "tags": []
   },
   "outputs": [],
   "source": [
    "simulation = app.Simulation(\n",
    "    pdbfile.topology,\n",
    "    system,\n",
    "    integrator,\n",
    "    openmm.Platform.getPlatformByName(\"CUDA\"),\n",
    "    {\"CudaPrecision\": \"mixed\", \"CudaDeviceIndex\": \"0\"},\n",
    ")\n",
    "simulation.context.setPositions(pdbfile.positions)\n",
    "\n",
    "dcd_reporter = app.DCDReporter(f\"{work_folder}/equilibration.dcd\", 500)\n",
    "state_reporter = app.StateDataReporter(\n",
    "    f\"{work_folder}/equilibration.log\",\n",
    "    500,\n",
    "    step=True,\n",
    "    kineticEnergy=True,\n",
    "    potentialEnergy=True,\n",
    "    totalEnergy=True,\n",
    "    temperature=True,\n",
    "    speed=True,\n",
    "    separator=\",\",\n",
    ")\n",
    "simulation.reporters.append(dcd_reporter)\n",
    "simulation.reporters.append(state_reporter)"
   ]
  },
  {
   "cell_type": "markdown",
   "id": "f1681be0-0c04-430f-ae38-55463f6a9404",
   "metadata": {},
   "source": [
    "### Initial Equilibration"
   ]
  },
  {
   "cell_type": "code",
   "execution_count": 6,
   "id": "403a22d3-1df2-4ee2-a1ea-3e032c80f61a",
   "metadata": {
    "tags": []
   },
   "outputs": [],
   "source": [
    "simulation.minimizeEnergy()\n",
    "\n",
    "simulation.step(50000)"
   ]
  },
  {
   "cell_type": "markdown",
   "id": "5f17b016-4c17-4970-b936-a5d201603f5f",
   "metadata": {},
   "source": [
    "### Let it Grow! Either by increasing Radius or Lambda"
   ]
  },
  {
   "cell_type": "code",
   "execution_count": 7,
   "id": "47645b53-cee0-4fc9-925a-bc082f5adbb2",
   "metadata": {
    "tags": []
   },
   "outputs": [
    {
     "data": {
      "application/vnd.jupyter.widget-view+json": {
       "model_id": "ebe1d6fa3a2040b390b02c46ac981527",
       "version_major": 2,
       "version_minor": 0
      },
      "text/plain": [
       "  0%|          | 0/10 [00:00<?, ?it/s]"
      ]
     },
     "metadata": {},
     "output_type": "display_data"
    }
   ],
   "source": [
    "# Growing radius\n",
    "r_particle = [0.5, 1.0, 1.5, 2.0, 2.5, 3.0, 3.5, 4.0, 4.5, 5.0] * unit.angstrom\n",
    "\n",
    "for radius in tqdm(r_particle):\n",
    "    simulation.context.setParameter(\"R_particle\", radius)\n",
    "    simulation.step(50000)"
   ]
  },
  {
   "cell_type": "code",
   "execution_count": 8,
   "id": "b5725a28-cc6d-4757-b3ae-26133d168820",
   "metadata": {},
   "outputs": [],
   "source": [
    "# # Growing lambda\n",
    "# r_particle = 5.0 * unit.angstrom\n",
    "# simulation.context.setParameter(\"R_particle\", r_particle)\n",
    "\n",
    "# lambda_values = [0.0, 0.2, 0.4, 0.6, 0.8, 1.0]\n",
    "\n",
    "# for lb in tqdm(lambda_values):\n",
    "#     simulation.context.setParameter(\"lambda_sterics\", lb)\n",
    "#     simulation.step(50000)"
   ]
  },
  {
   "cell_type": "code",
   "execution_count": 9,
   "id": "2113c166-f947-4431-810e-760a38422613",
   "metadata": {
    "tags": []
   },
   "outputs": [
    {
     "data": {
      "text/plain": [
       "pytraj.TrajectoryIterator, 1100 frames: \n",
       "Size: 0.003639 (GB)\n",
       "<Topology: 148 atoms, 2 residues, 2 mols, non-PBC>\n",
       "           "
      ]
     },
     "execution_count": 9,
     "metadata": {},
     "output_type": "execute_result"
    }
   ],
   "source": [
    "traj = pt.iterload(f\"{work_folder}/equilibration.dcd\", top=f\"{work_folder}/system.pdb\")\n",
    "pt.align(traj, mask=\"@/C\")"
   ]
  },
  {
   "cell_type": "code",
   "execution_count": 11,
   "id": "a1bc56ba-c1de-4c58-be1d-d2c009b102bf",
   "metadata": {
    "tags": []
   },
   "outputs": [
    {
     "data": {
      "application/vnd.jupyter.widget-view+json": {
       "model_id": "16e75e3ce3e142c7be48570a99f4d709",
       "version_major": 2,
       "version_minor": 0
      },
      "text/plain": [
       "NGLWidget(max_frame=1099)"
      ]
     },
     "metadata": {},
     "output_type": "display_data"
    }
   ],
   "source": [
    "view = nv.show_pytraj(traj)\n",
    "view"
   ]
  },
  {
   "cell_type": "code",
   "execution_count": null,
   "id": "37651a38-9d91-4289-85e1-4c11736c6338",
   "metadata": {},
   "outputs": [],
   "source": []
  }
 ],
 "metadata": {
  "kernelspec": {
   "display_name": "Python 3 (ipykernel)",
   "language": "python",
   "name": "python3"
  },
  "language_info": {
   "codemirror_mode": {
    "name": "ipython",
    "version": 3
   },
   "file_extension": ".py",
   "mimetype": "text/x-python",
   "name": "python",
   "nbconvert_exporter": "python",
   "pygments_lexer": "ipython3",
   "version": "3.10.6"
  }
 },
 "nbformat": 4,
 "nbformat_minor": 5
}
