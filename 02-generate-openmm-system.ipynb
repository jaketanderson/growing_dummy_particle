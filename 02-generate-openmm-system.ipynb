{
 "cells": [
  {
   "cell_type": "code",
   "execution_count": 1,
   "id": "e2c27edd-bbb8-473b-a1ac-72b42c9c5c63",
   "metadata": {
    "tags": []
   },
   "outputs": [
    {
     "data": {
      "application/vnd.jupyter.widget-view+json": {
       "model_id": "947ed97a612d4a58812f8078292c5963",
       "version_major": 2,
       "version_minor": 0
      },
      "text/plain": []
     },
     "metadata": {},
     "output_type": "display_data"
    },
    {
     "name": "stderr",
     "output_type": "stream",
     "text": [
      "Warning: importing 'simtk.openmm' is deprecated.  Import 'openmm' instead.\n",
      "Warning on use of the timeseries module: If the inherent timescales of the system are long compared to those being analyzed, this statistical inefficiency may be an underestimate.  The estimate presumes the use of many statistically independent samples.  Tests should be performed to assess whether this condition is satisfied.   Be cautious in the interpretation of the data.\n",
      "/home/jsetiadi/mambaforge/envs/paprika-dev/lib/python3.10/site-packages/numpy/core/getlimits.py:500: UserWarning: The value of the smallest subnormal for <class 'numpy.float64'> type is zero.\n",
      "  setattr(self, word, getattr(machar, word).flat[0])\n",
      "/home/jsetiadi/mambaforge/envs/paprika-dev/lib/python3.10/site-packages/numpy/core/getlimits.py:89: UserWarning: The value of the smallest subnormal for <class 'numpy.float64'> type is zero.\n",
      "  return self._float_to_str(self.smallest_subnormal)\n",
      "/home/jsetiadi/mambaforge/envs/paprika-dev/lib/python3.10/site-packages/numpy/core/getlimits.py:500: UserWarning: The value of the smallest subnormal for <class 'numpy.float32'> type is zero.\n",
      "  setattr(self, word, getattr(machar, word).flat[0])\n",
      "/home/jsetiadi/mambaforge/envs/paprika-dev/lib/python3.10/site-packages/numpy/core/getlimits.py:89: UserWarning: The value of the smallest subnormal for <class 'numpy.float32'> type is zero.\n",
      "  return self._float_to_str(self.smallest_subnormal)\n",
      "<frozen importlib._bootstrap>:241: RuntimeWarning: scipy._lib.messagestream.MessageStream size changed, may indicate binary incompatibility. Expected 56 from C header, got 64 from PyObject\n"
     ]
    }
   ],
   "source": [
    "import os\n",
    "\n",
    "import nglview as nv\n",
    "import numpy\n",
    "import openmm\n",
    "import openmm.app as app\n",
    "import openmm.unit as unit\n",
    "import parmed as pmd\n",
    "from openff.toolkit.topology import Molecule, Topology\n",
    "from openff.toolkit.typing.engines.smirnoff import ForceField\n",
    "from paprika.build import align\n",
    "from paprika.evaluator import Setup\n",
    "from pkg_resources import resource_filename\n",
    "from rdkit import Chem"
   ]
  },
  {
   "cell_type": "code",
   "execution_count": 2,
   "id": "8c84c060-34bb-42c5-b4e6-5e53fa3745cb",
   "metadata": {
    "tags": []
   },
   "outputs": [],
   "source": [
    "build_folder = \"build_files\"\n",
    "simulation_folder = \"simulation\"\n",
    "host_resname = \"MGO\"\n",
    "dummy_name = \"DUM\"\n",
    "os.makedirs(simulation_folder, exist_ok=True)"
   ]
  },
  {
   "cell_type": "markdown",
   "id": "2adcefb3-8374-45cc-8374-1670dc0fc655",
   "metadata": {
    "tags": []
   },
   "source": [
    "### Add Dummy Atom to PDB file"
   ]
  },
  {
   "cell_type": "code",
   "execution_count": 3,
   "id": "85298e7c-2a6d-4633-a4e7-10fa3f696a49",
   "metadata": {
    "tags": []
   },
   "outputs": [],
   "source": [
    "structure = pmd.load_file(f\"{build_folder}/bcd.am1bcc.sybyl.mol2\", structure=True)"
   ]
  },
  {
   "cell_type": "code",
   "execution_count": 4,
   "id": "0ef739e4-dd0d-410d-bb9f-6d35cffe00f9",
   "metadata": {
    "tags": []
   },
   "outputs": [],
   "source": [
    "# Align bCD to origin\n",
    "structure = align.translate_to_origin(structure, weight=\"geo\", atom_mask=\"@/C\")\n",
    "\n",
    "# Add dummy atom to structure\n",
    "Setup.add_dummy_atoms_to_structure(\n",
    "    structure,\n",
    "    [\n",
    "        numpy.array([0, 0, 0]),\n",
    "    ],\n",
    ")"
   ]
  },
  {
   "cell_type": "code",
   "execution_count": 5,
   "id": "9ea85216-94a0-4b2c-b2b3-6ee1cae7cb1b",
   "metadata": {},
   "outputs": [
    {
     "data": {
      "application/vnd.jupyter.widget-view+json": {
       "model_id": "bd3667ecca72486ab493dd090d09f2b7",
       "version_major": 2,
       "version_minor": 0
      },
      "text/plain": [
       "NGLWidget()"
      ]
     },
     "metadata": {},
     "output_type": "display_data"
    }
   ],
   "source": [
    "nv.show_parmed(structure)"
   ]
  },
  {
   "cell_type": "code",
   "execution_count": 6,
   "id": "89e22810-4ab9-4a65-84a5-340fbac2299c",
   "metadata": {
    "tags": []
   },
   "outputs": [],
   "source": [
    "# Save PDBFile\n",
    "with open(f\"{simulation_folder}/system.pdb\", \"w\") as f:\n",
    "    app.PDBFile.writeFile(structure.topology, structure.positions, f, keepIds=True)"
   ]
  },
  {
   "cell_type": "markdown",
   "id": "4aa6e99b-cdcb-46a9-896f-b6331941c6d0",
   "metadata": {},
   "source": [
    "## Create OpenMM System with Sage-OBC2"
   ]
  },
  {
   "cell_type": "code",
   "execution_count": 7,
   "id": "ad02e31c-b579-4ff0-a9e9-e02cdb1e5432",
   "metadata": {
    "tags": []
   },
   "outputs": [],
   "source": [
    "molecule = Molecule.from_file(f\"{build_folder}/bcd.am1bcc.sybyl.mol2\")\n",
    "\n",
    "GBSA = resource_filename(\n",
    "    \"openff.toolkit\", os.path.join(\"data\", \"test_forcefields\", \"GBSA_OBC2-1.0.offxml\")\n",
    ")\n",
    "forcefield = ForceField(\"openff-2.0.0.offxml\", GBSA)\n",
    "\n",
    "# Don't use ACE model at all\n",
    "gbsa_handler = forcefield.get_parameter_handler(\"GBSA\")\n",
    "gbsa_handler.sa_model = None\n",
    "\n",
    "openmm_system = forcefield.create_openmm_system(\n",
    "    molecule.to_topology(), charge_from_molecules=[molecule]\n",
    ")"
   ]
  },
  {
   "cell_type": "markdown",
   "id": "b657f558-c68f-42bb-805e-2f9fe8b5af32",
   "metadata": {},
   "source": [
    "### Add Dummy Atom To `System`"
   ]
  },
  {
   "cell_type": "code",
   "execution_count": 8,
   "id": "d262dea7-1699-4ed0-adab-31b44cedc958",
   "metadata": {
    "tags": []
   },
   "outputs": [
    {
     "data": {
      "text/plain": [
       "147"
      ]
     },
     "execution_count": 8,
     "metadata": {},
     "output_type": "execute_result"
    }
   ],
   "source": [
    "# Add Mass of Lead to System Particle\n",
    "openmm_system.addParticle(207.2 * unit.dalton)"
   ]
  },
  {
   "cell_type": "markdown",
   "id": "08dc2289-69c0-4412-9018-98984b84f87b",
   "metadata": {},
   "source": [
    "### Add Dummy Particle to `NonbondedForce` and `GBSAOBCForce`"
   ]
  },
  {
   "cell_type": "code",
   "execution_count": 9,
   "id": "9fb2e3a2-09a9-4efb-9250-4995cdc60f57",
   "metadata": {
    "tags": []
   },
   "outputs": [],
   "source": [
    "# Add Dummy particle to NonbondedForce and GBSAOBCForce\n",
    "for force in openmm_system.getForces():\n",
    "    if isinstance(force, openmm.NonbondedForce):\n",
    "        # Add particle with no charges or LJ energy\n",
    "        force.addParticle(\n",
    "            0.0 * unit.elementary_charge,\n",
    "            2.0 * unit.angstrom,\n",
    "            0.0 * unit.kilocalorie_per_mole,\n",
    "        )\n",
    "    elif isinstance(force, openmm.GBSAOBCForce):\n",
    "        # Add GBSA particle with no charge and oxygen parameters\n",
    "        force.addParticle(0.0 * unit.elementary_charge, 1.5 * unit.angstrom, 0.85)"
   ]
  },
  {
   "cell_type": "markdown",
   "id": "1f6881de-c566-4f1d-b65c-5f59e6d14523",
   "metadata": {},
   "source": [
    "### Convert Dummy Particle to a Hard Sphere"
   ]
  },
  {
   "cell_type": "code",
   "execution_count": 10,
   "id": "d5eadb5d-24df-426e-a04d-07a1a61955ef",
   "metadata": {
    "tags": []
   },
   "outputs": [],
   "source": [
    "host_atoms = [\n",
    "    atom.index\n",
    "    for atom in structure.topology.atoms()\n",
    "    if atom.residue.name == host_resname\n",
    "]\n",
    "dummy_atom = [\n",
    "    atom.index for atom in structure.topology.atoms() if atom.name == dummy_name\n",
    "]\n",
    "\n",
    "sigma_wall = 3.0 * unit.angstrom\n",
    "epsilon_wall = 1.0 * unit.kilocalorie_per_mole"
   ]
  },
  {
   "cell_type": "code",
   "execution_count": 11,
   "id": "2bb3fcde-ece5-4695-acb5-cb7ecbbbc8fc",
   "metadata": {
    "tags": []
   },
   "outputs": [
    {
     "data": {
      "text/plain": [
       "5"
      ]
     },
     "execution_count": 11,
     "metadata": {},
     "output_type": "execute_result"
    }
   ],
   "source": [
    "hard_sphere = openmm.CustomNonbondedForce(\n",
    "    \"lambda_sterics * U_repulsive;\"\n",
    "    \"U_repulsive = step(R_particle - r) * (U_Mie + epsilon_wall);\"\n",
    "    \"U_Mie = prefactor * epsilon_wall * (1/repulsive - 1/dispersive);\"\n",
    "    \"repulsive = (dispersive)^(coeff_r/coeff_a);\"\n",
    "    \"dispersive = softcore_alpha*(1.0-lambda_sterics) + (r_prime/sigma_wall)^coeff_a;\"\n",
    "    \"prefactor = (coeff_r/(coeff_r - coeff_a)) * (coeff_r/coeff_a)^(coeff_a/(coeff_r-coeff_a));\"\n",
    "    \"r_prime = r - (R_particle - R_min);\"\n",
    "    \"R_min = sigma_wall * ((coeff_r/coeff_a)^(coeff_a/(coeff_r-coeff_a)) - softcore_alpha*(1.0-lambda_sterics))^(1/coeff_a);\"\n",
    ")\n",
    "hard_sphere.addGlobalParameter(\"lambda_sterics\", 1.0)\n",
    "hard_sphere.addGlobalParameter(\"softcore_alpha\", 0.5)\n",
    "hard_sphere.addGlobalParameter(\"R_particle\", 1.0 * unit.angstrom)\n",
    "hard_sphere.addGlobalParameter(\"coeff_r\", 12)\n",
    "hard_sphere.addGlobalParameter(\"coeff_a\", 6)\n",
    "hard_sphere.addGlobalParameter(\"sigma_wall\", sigma_wall)\n",
    "hard_sphere.addGlobalParameter(\"epsilon_wall\", epsilon_wall)\n",
    "hard_sphere.addPerParticleParameter(\"sigma\")\n",
    "hard_sphere.addPerParticleParameter(\"epsilon\")\n",
    "hard_sphere.setNonbondedMethod(openmm.CustomNonbondedForce.NoCutoff)\n",
    "hard_sphere.setUseLongRangeCorrection(False)\n",
    "hard_sphere.setForceGroup(10)\n",
    "hard_sphere.addInteractionGroup(dummy_atom, host_atoms)\n",
    "\n",
    "# Set LJ parameters\n",
    "nonbonded = [\n",
    "    force\n",
    "    for force in openmm_system.getForces()\n",
    "    if isinstance(force, openmm.NonbondedForce)\n",
    "][0]\n",
    "for atom in range(nonbonded.getNumParticles()):\n",
    "    charge, sigma, epsilon = nonbonded.getParticleParameters(atom)\n",
    "    if atom in dummy_atom:\n",
    "        hard_sphere.addParticle([sigma_wall, epsilon_wall])\n",
    "    else:\n",
    "        hard_sphere.addParticle([sigma, epsilon])\n",
    "\n",
    "openmm_system.addForce(hard_sphere)"
   ]
  },
  {
   "cell_type": "markdown",
   "id": "72654804-87ce-4418-a96d-a075de578938",
   "metadata": {},
   "source": [
    "### Add Center of Mass restraints"
   ]
  },
  {
   "cell_type": "code",
   "execution_count": 12,
   "id": "3dc5e784-f062-4c2a-b8dc-9a1fc9dd4d4f",
   "metadata": {
    "tags": []
   },
   "outputs": [],
   "source": [
    "mol = Chem.MolFromMol2File(f\"{build_folder}/bcd.am1bcc.sybyl.mol2\", removeHs=False)"
   ]
  },
  {
   "cell_type": "code",
   "execution_count": 13,
   "id": "6f54a2e4-6679-4585-bef8-1e1d382b7c54",
   "metadata": {
    "tags": []
   },
   "outputs": [],
   "source": [
    "central_oxygen_mol = Chem.MolFromSmarts(\"[#8:1]([#6]1-[#8]-[#6]-[#6]-[#6]-[#6]-1)\")\n",
    "central_match = mol.GetSubstructMatches(central_oxygen_mol)\n",
    "central_oxygen = [list(ai)[0] for ai in central_match]"
   ]
  },
  {
   "cell_type": "code",
   "execution_count": 14,
   "id": "830cc6b7-bfba-4525-b263-f57cdbc664b2",
   "metadata": {
    "tags": []
   },
   "outputs": [
    {
     "data": {
      "text/plain": [
       "6"
      ]
     },
     "execution_count": 14,
     "metadata": {},
     "output_type": "execute_result"
    }
   ],
   "source": [
    "com_restraint = openmm.CustomCentroidBondForce(2, \"0.5*k_com*distance(g1,g2)^2;\")\n",
    "com_restraint.addPerBondParameter(\"k_com\")\n",
    "com_restraint.setUsesPeriodicBoundaryConditions(False)\n",
    "\n",
    "# Add host and dummy indices\n",
    "g1 = com_restraint.addGroup(central_oxygen, [1 for i in range(len(central_oxygen))])\n",
    "g2 = com_restraint.addGroup(dummy_atom)\n",
    "\n",
    "com_restraint.addBond([g1, g2], [100.0 * unit.kilocalorie_per_mole / unit.angstrom**2])\n",
    "com_restraint.setForceGroup(11)\n",
    "\n",
    "openmm_system.addForce(com_restraint)"
   ]
  },
  {
   "cell_type": "code",
   "execution_count": 15,
   "id": "4882f4b1-8348-414f-9624-a35347e2a717",
   "metadata": {
    "tags": []
   },
   "outputs": [],
   "source": [
    "# Save system\n",
    "with open(f\"{simulation_folder}/system.xml\", \"w\") as f:\n",
    "    f.write(openmm.XmlSerializer.serialize(openmm_system))"
   ]
  },
  {
   "cell_type": "code",
   "execution_count": null,
   "id": "ace600e0-6466-45e0-a341-64026638eb4c",
   "metadata": {},
   "outputs": [],
   "source": []
  }
 ],
 "metadata": {
  "kernelspec": {
   "display_name": "Python 3 (ipykernel)",
   "language": "python",
   "name": "python3"
  },
  "language_info": {
   "codemirror_mode": {
    "name": "ipython",
    "version": 3
   },
   "file_extension": ".py",
   "mimetype": "text/x-python",
   "name": "python",
   "nbconvert_exporter": "python",
   "pygments_lexer": "ipython3",
   "version": "3.10.6"
  }
 },
 "nbformat": 4,
 "nbformat_minor": 5
}
